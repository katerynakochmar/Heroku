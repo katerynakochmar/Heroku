{
 "cells": [
  {
   "cell_type": "code",
   "execution_count": 1,
   "metadata": {},
   "outputs": [],
   "source": [
    "import pandas as pd"
   ]
  },
  {
   "cell_type": "code",
   "execution_count": 2,
   "metadata": {},
   "outputs": [],
   "source": [
    "reviews = pd.read_csv('reviews_dedup.csv')"
   ]
  },
  {
   "cell_type": "code",
   "execution_count": 3,
   "metadata": {},
   "outputs": [
    {
     "data": {
      "text/plain": [
       "35949"
      ]
     },
     "execution_count": 3,
     "metadata": {},
     "output_type": "execute_result"
    }
   ],
   "source": [
    "reviews.shape[0]"
   ]
  },
  {
   "cell_type": "code",
   "execution_count": 4,
   "metadata": {},
   "outputs": [
    {
     "data": {
      "text/html": [
       "<div>\n",
       "<style scoped>\n",
       "    .dataframe tbody tr th:only-of-type {\n",
       "        vertical-align: middle;\n",
       "    }\n",
       "\n",
       "    .dataframe tbody tr th {\n",
       "        vertical-align: top;\n",
       "    }\n",
       "\n",
       "    .dataframe thead th {\n",
       "        text-align: right;\n",
       "    }\n",
       "</style>\n",
       "<table border=\"1\" class=\"dataframe\">\n",
       "  <thead>\n",
       "    <tr style=\"text-align: right;\">\n",
       "      <th></th>\n",
       "      <th>id</th>\n",
       "      <th>user_rating</th>\n",
       "      <th>user_name</th>\n",
       "      <th>user_profile</th>\n",
       "      <th>user_review</th>\n",
       "      <th>user_reviewdate</th>\n",
       "      <th>user_staydate</th>\n",
       "    </tr>\n",
       "  </thead>\n",
       "  <tbody>\n",
       "    <tr>\n",
       "      <th>0</th>\n",
       "      <td>9003</td>\n",
       "      <td>4.0</td>\n",
       "      <td>Michelle W</td>\n",
       "      <td>https://www.tripadvisor.ca/Profile/mmwilson83</td>\n",
       "      <td>nil</td>\n",
       "      <td>Jan. 2019</td>\n",
       "      <td>January 2019</td>\n",
       "    </tr>\n",
       "    <tr>\n",
       "      <th>1</th>\n",
       "      <td>9003</td>\n",
       "      <td>5.0</td>\n",
       "      <td>lisambrandt1</td>\n",
       "      <td>https://www.tripadvisor.ca/Profile/lisambrandt1</td>\n",
       "      <td>nil</td>\n",
       "      <td>May 2018</td>\n",
       "      <td>May 2018</td>\n",
       "    </tr>\n",
       "    <tr>\n",
       "      <th>2</th>\n",
       "      <td>9003</td>\n",
       "      <td>4.0</td>\n",
       "      <td>Placestobee</td>\n",
       "      <td>https://www.tripadvisor.ca/Profile/Placestobee</td>\n",
       "      <td>nil</td>\n",
       "      <td>Jan. 2019</td>\n",
       "      <td>January 2019</td>\n",
       "    </tr>\n",
       "    <tr>\n",
       "      <th>3</th>\n",
       "      <td>9003</td>\n",
       "      <td>5.0</td>\n",
       "      <td>Lori Y</td>\n",
       "      <td>https://www.tripadvisor.ca/Profile/loriy201</td>\n",
       "      <td>nil</td>\n",
       "      <td>Jan. 2019</td>\n",
       "      <td>January 2019</td>\n",
       "    </tr>\n",
       "    <tr>\n",
       "      <th>4</th>\n",
       "      <td>9003</td>\n",
       "      <td>4.0</td>\n",
       "      <td>medsalesguy</td>\n",
       "      <td>https://www.tripadvisor.ca/Profile/medsalesguy</td>\n",
       "      <td>nil</td>\n",
       "      <td>Nov. 2018</td>\n",
       "      <td>November 2018</td>\n",
       "    </tr>\n",
       "  </tbody>\n",
       "</table>\n",
       "</div>"
      ],
      "text/plain": [
       "     id user_rating     user_name  \\\n",
       "0  9003         4.0    Michelle W   \n",
       "1  9003         5.0  lisambrandt1   \n",
       "2  9003         4.0   Placestobee   \n",
       "3  9003         5.0        Lori Y   \n",
       "4  9003         4.0   medsalesguy   \n",
       "\n",
       "                                      user_profile user_review  \\\n",
       "0    https://www.tripadvisor.ca/Profile/mmwilson83         nil   \n",
       "1  https://www.tripadvisor.ca/Profile/lisambrandt1         nil   \n",
       "2   https://www.tripadvisor.ca/Profile/Placestobee         nil   \n",
       "3      https://www.tripadvisor.ca/Profile/loriy201         nil   \n",
       "4   https://www.tripadvisor.ca/Profile/medsalesguy         nil   \n",
       "\n",
       "  user_reviewdate   user_staydate  \n",
       "0       Jan. 2019    January 2019  \n",
       "1        May 2018        May 2018  \n",
       "2       Jan. 2019    January 2019  \n",
       "3       Jan. 2019    January 2019  \n",
       "4       Nov. 2018   November 2018  "
      ]
     },
     "execution_count": 4,
     "metadata": {},
     "output_type": "execute_result"
    }
   ],
   "source": [
    "reviews.head()"
   ]
  },
  {
   "cell_type": "code",
   "execution_count": 5,
   "metadata": {},
   "outputs": [
    {
     "data": {
      "text/plain": [
       "(677, 33240)"
      ]
     },
     "execution_count": 5,
     "metadata": {},
     "output_type": "execute_result"
    }
   ],
   "source": [
    "reviews.id.nunique(), reviews.user_profile.nunique()"
   ]
  },
  {
   "cell_type": "code",
   "execution_count": 6,
   "metadata": {},
   "outputs": [
    {
     "data": {
      "text/plain": [
       "array([' nil'], dtype=object)"
      ]
     },
     "execution_count": 6,
     "metadata": {},
     "output_type": "execute_result"
    }
   ],
   "source": [
    "reviews.user_review.unique()"
   ]
  },
  {
   "cell_type": "code",
   "execution_count": 7,
   "metadata": {},
   "outputs": [],
   "source": [
    "hotel_info = pd.read_csv('hotel_info.csv')"
   ]
  },
  {
   "cell_type": "code",
   "execution_count": 8,
   "metadata": {},
   "outputs": [
    {
     "data": {
      "text/html": [
       "<div>\n",
       "<style scoped>\n",
       "    .dataframe tbody tr th:only-of-type {\n",
       "        vertical-align: middle;\n",
       "    }\n",
       "\n",
       "    .dataframe tbody tr th {\n",
       "        vertical-align: top;\n",
       "    }\n",
       "\n",
       "    .dataframe thead th {\n",
       "        text-align: right;\n",
       "    }\n",
       "</style>\n",
       "<table border=\"1\" class=\"dataframe\">\n",
       "  <thead>\n",
       "    <tr style=\"text-align: right;\">\n",
       "      <th></th>\n",
       "      <th>id</th>\n",
       "      <th>hotel_name</th>\n",
       "      <th>hotel_rating</th>\n",
       "      <th>hotel_experience</th>\n",
       "      <th>amenities</th>\n",
       "      <th>address</th>\n",
       "      <th>country</th>\n",
       "      <th>location</th>\n",
       "      <th>price</th>\n",
       "    </tr>\n",
       "  </thead>\n",
       "  <tbody>\n",
       "    <tr>\n",
       "      <th>0</th>\n",
       "      <td>1</td>\n",
       "      <td>Niagara Falls Marriott Fallsview Hotel &amp; Spa</td>\n",
       "      <td>4.0</td>\n",
       "      <td>Very good</td>\n",
       "      <td>['Pool', 'Restaurant', 'Fitness Centre with Gy...</td>\n",
       "      <td>6740 Fallsview Blvd Niagara Falls Ontario</td>\n",
       "      <td>Canada</td>\n",
       "      <td>(43.0784124, -79.0820118287735)</td>\n",
       "      <td>118.0</td>\n",
       "    </tr>\n",
       "    <tr>\n",
       "      <th>1</th>\n",
       "      <td>2</td>\n",
       "      <td>Fairmont Royal York</td>\n",
       "      <td>4.5</td>\n",
       "      <td>Excellent</td>\n",
       "      <td>['Restaurant', 'Room service', 'Fitness Centre...</td>\n",
       "      <td>100 Front Street W Toronto Ontario</td>\n",
       "      <td>Canada</td>\n",
       "      <td>(43.6459092, -79.3813636)</td>\n",
       "      <td>489.0</td>\n",
       "    </tr>\n",
       "    <tr>\n",
       "      <th>2</th>\n",
       "      <td>3</td>\n",
       "      <td>Blue Horizon Hotel</td>\n",
       "      <td>4.5</td>\n",
       "      <td>Excellent</td>\n",
       "      <td>['Pool', 'Restaurant', 'Free High Speed Intern...</td>\n",
       "      <td>1225 Robson St Vancouver British Columbia</td>\n",
       "      <td>Canada</td>\n",
       "      <td>(49.2870098, -123.1285348)</td>\n",
       "      <td>169.0</td>\n",
       "    </tr>\n",
       "    <tr>\n",
       "      <th>3</th>\n",
       "      <td>4</td>\n",
       "      <td>Fairmont Le Chateau Frontenac</td>\n",
       "      <td>4.5</td>\n",
       "      <td>Excellent</td>\n",
       "      <td>['Restaurant', 'Fitness Centre with Gym / Work...</td>\n",
       "      <td>1 Rue des Carrieres Quebec City Quebec</td>\n",
       "      <td>Canada</td>\n",
       "      <td>(46.81182845, -71.2055490276425)</td>\n",
       "      <td>212.0</td>\n",
       "    </tr>\n",
       "    <tr>\n",
       "      <th>4</th>\n",
       "      <td>5</td>\n",
       "      <td>Rimrock Resort Hotel</td>\n",
       "      <td>4.5</td>\n",
       "      <td>Excellent</td>\n",
       "      <td>['Pool', 'Room service', 'Fitness Centre with ...</td>\n",
       "      <td>300 Mountain Avenue Alberta</td>\n",
       "      <td>Canada</td>\n",
       "      <td>(51.1615167, -115.5706911)</td>\n",
       "      <td>189.0</td>\n",
       "    </tr>\n",
       "  </tbody>\n",
       "</table>\n",
       "</div>"
      ],
      "text/plain": [
       "   id                                    hotel_name  hotel_rating  \\\n",
       "0   1  Niagara Falls Marriott Fallsview Hotel & Spa           4.0   \n",
       "1   2                           Fairmont Royal York           4.5   \n",
       "2   3                            Blue Horizon Hotel           4.5   \n",
       "3   4                 Fairmont Le Chateau Frontenac           4.5   \n",
       "4   5                          Rimrock Resort Hotel           4.5   \n",
       "\n",
       "  hotel_experience                                          amenities  \\\n",
       "0        Very good  ['Pool', 'Restaurant', 'Fitness Centre with Gy...   \n",
       "1        Excellent  ['Restaurant', 'Room service', 'Fitness Centre...   \n",
       "2        Excellent  ['Pool', 'Restaurant', 'Free High Speed Intern...   \n",
       "3        Excellent  ['Restaurant', 'Fitness Centre with Gym / Work...   \n",
       "4        Excellent  ['Pool', 'Room service', 'Fitness Centre with ...   \n",
       "\n",
       "                                     address country  \\\n",
       "0  6740 Fallsview Blvd Niagara Falls Ontario  Canada   \n",
       "1         100 Front Street W Toronto Ontario  Canada   \n",
       "2  1225 Robson St Vancouver British Columbia  Canada   \n",
       "3     1 Rue des Carrieres Quebec City Quebec  Canada   \n",
       "4                300 Mountain Avenue Alberta  Canada   \n",
       "\n",
       "                           location  price  \n",
       "0   (43.0784124, -79.0820118287735)  118.0  \n",
       "1         (43.6459092, -79.3813636)  489.0  \n",
       "2        (49.2870098, -123.1285348)  169.0  \n",
       "3  (46.81182845, -71.2055490276425)  212.0  \n",
       "4        (51.1615167, -115.5706911)  189.0  "
      ]
     },
     "execution_count": 8,
     "metadata": {},
     "output_type": "execute_result"
    }
   ],
   "source": [
    "hotel_info.head()"
   ]
  },
  {
   "cell_type": "code",
   "execution_count": 9,
   "metadata": {},
   "outputs": [],
   "source": [
    "hotel_info_dedup = pd.read_csv('hotel_info_dedup.csv')"
   ]
  },
  {
   "cell_type": "code",
   "execution_count": 10,
   "metadata": {},
   "outputs": [
    {
     "data": {
      "text/html": [
       "<div>\n",
       "<style scoped>\n",
       "    .dataframe tbody tr th:only-of-type {\n",
       "        vertical-align: middle;\n",
       "    }\n",
       "\n",
       "    .dataframe tbody tr th {\n",
       "        vertical-align: top;\n",
       "    }\n",
       "\n",
       "    .dataframe thead th {\n",
       "        text-align: right;\n",
       "    }\n",
       "</style>\n",
       "<table border=\"1\" class=\"dataframe\">\n",
       "  <thead>\n",
       "    <tr style=\"text-align: right;\">\n",
       "      <th></th>\n",
       "      <th>id</th>\n",
       "      <th>hotel_name</th>\n",
       "      <th>hotel_rating</th>\n",
       "      <th>hotel_experience</th>\n",
       "      <th>amenities</th>\n",
       "      <th>address</th>\n",
       "      <th>country</th>\n",
       "      <th>locality</th>\n",
       "      <th>location</th>\n",
       "      <th>price</th>\n",
       "    </tr>\n",
       "  </thead>\n",
       "  <tbody>\n",
       "    <tr>\n",
       "      <th>0</th>\n",
       "      <td>9001</td>\n",
       "      <td>Peterborough House B&amp;B</td>\n",
       "      <td>NaN</td>\n",
       "      <td>NaN</td>\n",
       "      <td>[]</td>\n",
       "      <td>633 Gilmour St</td>\n",
       "      <td>Canada</td>\n",
       "      <td>Kimberley British Columbia</td>\n",
       "      <td>(44.3014954, -78.338309)</td>\n",
       "      <td>NaN</td>\n",
       "    </tr>\n",
       "    <tr>\n",
       "      <th>1</th>\n",
       "      <td>9002</td>\n",
       "      <td>Ramada Inn</td>\n",
       "      <td>NaN</td>\n",
       "      <td>NaN</td>\n",
       "      <td>['Bar/Lounge', 'Non-smoking hotel', 'Wheelchai...</td>\n",
       "      <td>100 Charlotte St Peterborough Ontario</td>\n",
       "      <td>Canada</td>\n",
       "      <td>Kimberley British Columbia</td>\n",
       "      <td>(44.3035966, -78.3185251)</td>\n",
       "      <td>NaN</td>\n",
       "    </tr>\n",
       "    <tr>\n",
       "      <th>2</th>\n",
       "      <td>9003</td>\n",
       "      <td>Hotel Le Floral</td>\n",
       "      <td>4.5</td>\n",
       "      <td>Excellent</td>\n",
       "      <td>['Free High Speed Internet (WiFi)', 'Pool', 'F...</td>\n",
       "      <td>192 Sherbrooke Quebec</td>\n",
       "      <td>Canada</td>\n",
       "      <td>Kimberley British Columbia</td>\n",
       "      <td>(45.403271, -71.889038)</td>\n",
       "      <td>115.0</td>\n",
       "    </tr>\n",
       "    <tr>\n",
       "      <th>3</th>\n",
       "      <td>9004</td>\n",
       "      <td>OTL Gouverneur Sherbrooke</td>\n",
       "      <td>5.0</td>\n",
       "      <td>Excellent</td>\n",
       "      <td>['Pool', 'Room service', 'Free parking', 'Rest...</td>\n",
       "      <td></td>\n",
       "      <td>Canada</td>\n",
       "      <td>Kimberley British Columbia</td>\n",
       "      <td>('nil', 'nil')</td>\n",
       "      <td>NaN</td>\n",
       "    </tr>\n",
       "    <tr>\n",
       "      <th>4</th>\n",
       "      <td>9005</td>\n",
       "      <td>Delta Hotels by Marriott Sherbrooke Conference...</td>\n",
       "      <td>3.5</td>\n",
       "      <td>Very good</td>\n",
       "      <td>['Restaurant', 'Free High Speed Internet (WiFi...</td>\n",
       "      <td>2685 King Ouest Sherbrooke Quebec</td>\n",
       "      <td>Canada</td>\n",
       "      <td>Kimberley British Columbia</td>\n",
       "      <td>(45.3983347290799, -71.939346911956)</td>\n",
       "      <td>NaN</td>\n",
       "    </tr>\n",
       "  </tbody>\n",
       "</table>\n",
       "</div>"
      ],
      "text/plain": [
       "     id                                         hotel_name  hotel_rating  \\\n",
       "0  9001                             Peterborough House B&B           NaN   \n",
       "1  9002                                         Ramada Inn           NaN   \n",
       "2  9003                                    Hotel Le Floral           4.5   \n",
       "3  9004                          OTL Gouverneur Sherbrooke           5.0   \n",
       "4  9005  Delta Hotels by Marriott Sherbrooke Conference...           3.5   \n",
       "\n",
       "  hotel_experience                                          amenities  \\\n",
       "0              NaN                                                 []   \n",
       "1              NaN  ['Bar/Lounge', 'Non-smoking hotel', 'Wheelchai...   \n",
       "2        Excellent  ['Free High Speed Internet (WiFi)', 'Pool', 'F...   \n",
       "3        Excellent  ['Pool', 'Room service', 'Free parking', 'Rest...   \n",
       "4        Very good  ['Restaurant', 'Free High Speed Internet (WiFi...   \n",
       "\n",
       "                                 address country                    locality  \\\n",
       "0                        633 Gilmour St   Canada  Kimberley British Columbia   \n",
       "1  100 Charlotte St Peterborough Ontario  Canada  Kimberley British Columbia   \n",
       "2                  192 Sherbrooke Quebec  Canada  Kimberley British Columbia   \n",
       "3                                         Canada  Kimberley British Columbia   \n",
       "4      2685 King Ouest Sherbrooke Quebec  Canada  Kimberley British Columbia   \n",
       "\n",
       "                               location  price  \n",
       "0              (44.3014954, -78.338309)    NaN  \n",
       "1             (44.3035966, -78.3185251)    NaN  \n",
       "2               (45.403271, -71.889038)  115.0  \n",
       "3                        ('nil', 'nil')    NaN  \n",
       "4  (45.3983347290799, -71.939346911956)    NaN  "
      ]
     },
     "execution_count": 10,
     "metadata": {},
     "output_type": "execute_result"
    }
   ],
   "source": [
    "hotel_info_dedup.head()"
   ]
  },
  {
   "cell_type": "code",
   "execution_count": 11,
   "metadata": {},
   "outputs": [],
   "source": [
    "review_zip = pd.read_csv('reviews.csv')"
   ]
  },
  {
   "cell_type": "code",
   "execution_count": 12,
   "metadata": {},
   "outputs": [
    {
     "data": {
      "text/html": [
       "<div>\n",
       "<style scoped>\n",
       "    .dataframe tbody tr th:only-of-type {\n",
       "        vertical-align: middle;\n",
       "    }\n",
       "\n",
       "    .dataframe tbody tr th {\n",
       "        vertical-align: top;\n",
       "    }\n",
       "\n",
       "    .dataframe thead th {\n",
       "        text-align: right;\n",
       "    }\n",
       "</style>\n",
       "<table border=\"1\" class=\"dataframe\">\n",
       "  <thead>\n",
       "    <tr style=\"text-align: right;\">\n",
       "      <th></th>\n",
       "      <th>id</th>\n",
       "      <th>user_rating</th>\n",
       "      <th>user_name</th>\n",
       "      <th>user_profile</th>\n",
       "      <th>user_review</th>\n",
       "      <th>user_reviewdate</th>\n",
       "      <th>user_staydate</th>\n",
       "    </tr>\n",
       "  </thead>\n",
       "  <tbody>\n",
       "    <tr>\n",
       "      <th>0</th>\n",
       "      <td>1</td>\n",
       "      <td>5.0</td>\n",
       "      <td>Billy Banda Gizmo Dorothy</td>\n",
       "      <td>https://www.tripadvisor.ca/Profile/Gizmo4ever</td>\n",
       "      <td>great view Great place to stay and you have th...</td>\n",
       "      <td>Mar. 22</td>\n",
       "      <td>June 2018</td>\n",
       "    </tr>\n",
       "    <tr>\n",
       "      <th>1</th>\n",
       "      <td>1</td>\n",
       "      <td>4.0</td>\n",
       "      <td>VisitorfromOntario9</td>\n",
       "      <td>https://www.tripadvisor.ca/Profile/Visitorfrom...</td>\n",
       "      <td>Nice Winter Break Our multi generational famil...</td>\n",
       "      <td>Mar. 19</td>\n",
       "      <td>January 2019</td>\n",
       "    </tr>\n",
       "    <tr>\n",
       "      <th>2</th>\n",
       "      <td>1</td>\n",
       "      <td>5.0</td>\n",
       "      <td>Odyssey624335</td>\n",
       "      <td>https://www.tripadvisor.ca/Profile/Odyssey624335</td>\n",
       "      <td>Perfect View of the Falls A room with a specta...</td>\n",
       "      <td>Mar. 19</td>\n",
       "      <td>March 2019</td>\n",
       "    </tr>\n",
       "    <tr>\n",
       "      <th>3</th>\n",
       "      <td>1</td>\n",
       "      <td>5.0</td>\n",
       "      <td>Melissa F</td>\n",
       "      <td>https://www.tripadvisor.ca/Profile/956melissaf</td>\n",
       "      <td>Great time!! Beautiful hotel. We would stay ag...</td>\n",
       "      <td>Mar. 19</td>\n",
       "      <td>March 2019</td>\n",
       "    </tr>\n",
       "    <tr>\n",
       "      <th>4</th>\n",
       "      <td>1</td>\n",
       "      <td>5.0</td>\n",
       "      <td>2kidswilltravel37</td>\n",
       "      <td>https://www.tripadvisor.ca/Profile/2kidswilltr...</td>\n",
       "      <td>Peaceful, perfect unobstructed views Having an...</td>\n",
       "      <td>Mar. 15</td>\n",
       "      <td>March 2019</td>\n",
       "    </tr>\n",
       "  </tbody>\n",
       "</table>\n",
       "</div>"
      ],
      "text/plain": [
       "   id  user_rating                  user_name  \\\n",
       "0   1          5.0  Billy Banda Gizmo Dorothy   \n",
       "1   1          4.0        VisitorfromOntario9   \n",
       "2   1          5.0              Odyssey624335   \n",
       "3   1          5.0                  Melissa F   \n",
       "4   1          5.0          2kidswilltravel37   \n",
       "\n",
       "                                        user_profile  \\\n",
       "0      https://www.tripadvisor.ca/Profile/Gizmo4ever   \n",
       "1  https://www.tripadvisor.ca/Profile/Visitorfrom...   \n",
       "2   https://www.tripadvisor.ca/Profile/Odyssey624335   \n",
       "3     https://www.tripadvisor.ca/Profile/956melissaf   \n",
       "4  https://www.tripadvisor.ca/Profile/2kidswilltr...   \n",
       "\n",
       "                                         user_review user_reviewdate  \\\n",
       "0  great view Great place to stay and you have th...         Mar. 22   \n",
       "1  Nice Winter Break Our multi generational famil...         Mar. 19   \n",
       "2  Perfect View of the Falls A room with a specta...         Mar. 19   \n",
       "3  Great time!! Beautiful hotel. We would stay ag...         Mar. 19   \n",
       "4  Peaceful, perfect unobstructed views Having an...         Mar. 15   \n",
       "\n",
       "   user_staydate  \n",
       "0      June 2018  \n",
       "1   January 2019  \n",
       "2     March 2019  \n",
       "3     March 2019  \n",
       "4     March 2019  "
      ]
     },
     "execution_count": 12,
     "metadata": {},
     "output_type": "execute_result"
    }
   ],
   "source": [
    "review_zip.head()"
   ]
  },
  {
   "cell_type": "code",
   "execution_count": 13,
   "metadata": {},
   "outputs": [
    {
     "data": {
      "text/plain": [
       "(33240, 189654)"
      ]
     },
     "execution_count": 13,
     "metadata": {},
     "output_type": "execute_result"
    }
   ],
   "source": [
    "reviews.user_profile.nunique(), review_zip.user_profile.nunique()"
   ]
  },
  {
   "cell_type": "code",
   "execution_count": 14,
   "metadata": {},
   "outputs": [
    {
     "data": {
      "text/plain": [
       "18863"
      ]
     },
     "execution_count": 14,
     "metadata": {},
     "output_type": "execute_result"
    }
   ],
   "source": [
    "len(set(reviews.user_profile) & set(review_zip.user_profile))"
   ]
  },
  {
   "cell_type": "code",
   "execution_count": 15,
   "metadata": {},
   "outputs": [
    {
     "data": {
      "text/plain": [
       "(4466, 677)"
      ]
     },
     "execution_count": 15,
     "metadata": {},
     "output_type": "execute_result"
    }
   ],
   "source": [
    "review_zip.id.nunique(), reviews.id.nunique()"
   ]
  },
  {
   "cell_type": "code",
   "execution_count": 16,
   "metadata": {},
   "outputs": [
    {
     "data": {
      "text/plain": [
       "0"
      ]
     },
     "execution_count": 16,
     "metadata": {},
     "output_type": "execute_result"
    }
   ],
   "source": [
    "len(set(reviews.id) & set(review_zip.id))"
   ]
  },
  {
   "cell_type": "code",
   "execution_count": 17,
   "metadata": {},
   "outputs": [
    {
     "data": {
      "text/plain": [
       "(max    6125\n",
       " min       1\n",
       " Name: id, dtype: int64,\n",
       " max    9733\n",
       " min    9003\n",
       " Name: id, dtype: int64)"
      ]
     },
     "execution_count": 17,
     "metadata": {},
     "output_type": "execute_result"
    }
   ],
   "source": [
    "review_zip.id.agg({min, max}), reviews.id.agg({min, max})"
   ]
  },
  {
   "cell_type": "markdown",
   "metadata": {},
   "source": [
    "## Parse Users info"
   ]
  },
  {
   "cell_type": "code",
   "execution_count": 38,
   "metadata": {},
   "outputs": [],
   "source": [
    "from selenium import webdriver"
   ]
  },
  {
   "cell_type": "code",
   "execution_count": 42,
   "metadata": {},
   "outputs": [],
   "source": [
    "driver = webdriver.Chrome()"
   ]
  },
  {
   "cell_type": "code",
   "execution_count": 47,
   "metadata": {},
   "outputs": [
    {
     "name": "stdout",
     "output_type": "stream",
     "text": [
      "Contributions 120\n",
      "Contributions 120\n",
      "Followers 0\n",
      "Followers 0\n",
      "Following 0\n",
      "Following 0\n"
     ]
    }
   ],
   "source": [
    "for el in t:\n",
    "    for span in el.find_all('span'):\n",
    "        print(el.text)"
   ]
  },
  {
   "cell_type": "code",
   "execution_count": 64,
   "metadata": {},
   "outputs": [],
   "source": [
    "def parse_user_meta(driver, usr_url):\n",
    "    result = {'user_profile': usr_url}\n",
    "    \n",
    "    try:\n",
    "        driver.get(usr_url)\n",
    "    except:\n",
    "        return result\n",
    "    \n",
    "    soup = BeautifulSoup(driver.page_source, \"html.parser\")\n",
    "    \n",
    "    table = soup.find_all('div', {'class': 'cuCIV _R _c _n z'})\n",
    "    \n",
    "    for tb in table:\n",
    "        spans = tb.find_all('span')\n",
    "        result[spans[0].text] = spans[1].text\n",
    "    \n",
    "    return result"
   ]
  },
  {
   "cell_type": "code",
   "execution_count": 55,
   "metadata": {},
   "outputs": [],
   "source": [
    "result = parse_user_meta(driver, 'https://www.tripadvisor.ca/Profile/Odyssey624335')"
   ]
  },
  {
   "cell_type": "code",
   "execution_count": 56,
   "metadata": {},
   "outputs": [
    {
     "data": {
      "text/plain": [
       "{'user_profile': 'https://www.tripadvisor.ca/Profile/Odyssey624335',\n",
       " 'Contributions ': '87',\n",
       " 'Followers ': '0',\n",
       " 'Following ': '0'}"
      ]
     },
     "execution_count": 56,
     "metadata": {},
     "output_type": "execute_result"
    }
   ],
   "source": [
    "result"
   ]
  },
  {
   "cell_type": "code",
   "execution_count": 57,
   "metadata": {},
   "outputs": [],
   "source": [
    "uniques_profiles = reviews.user_profile.unique()"
   ]
  },
  {
   "cell_type": "code",
   "execution_count": 60,
   "metadata": {},
   "outputs": [
    {
     "data": {
      "text/plain": [
       "33240"
      ]
     },
     "execution_count": 60,
     "metadata": {},
     "output_type": "execute_result"
    }
   ],
   "source": [
    "len(uniques_profiles)"
   ]
  },
  {
   "cell_type": "code",
   "execution_count": null,
   "metadata": {},
   "outputs": [],
   "source": [
    "uniques_profiles_meta_lst = list(map(lambda x: parse_user_meta(driver, x), uniques_profiles))"
   ]
  },
  {
   "cell_type": "code",
   "execution_count": 62,
   "metadata": {},
   "outputs": [
    {
     "data": {
      "text/plain": [
       "{'user_profile': 'https://www.tripadvisor.ca/Profile/mmwilson83',\n",
       " 'Contributions ': '31',\n",
       " 'Followers ': '0',\n",
       " 'Following ': '0'}"
      ]
     },
     "execution_count": 62,
     "metadata": {},
     "output_type": "execute_result"
    }
   ],
   "source": [
    "uniques_profiles_meta_lst[0]"
   ]
  },
  {
   "cell_type": "code",
   "execution_count": 63,
   "metadata": {},
   "outputs": [
    {
     "data": {
      "text/html": [
       "<div>\n",
       "<style scoped>\n",
       "    .dataframe tbody tr th:only-of-type {\n",
       "        vertical-align: middle;\n",
       "    }\n",
       "\n",
       "    .dataframe tbody tr th {\n",
       "        vertical-align: top;\n",
       "    }\n",
       "\n",
       "    .dataframe thead th {\n",
       "        text-align: right;\n",
       "    }\n",
       "</style>\n",
       "<table border=\"1\" class=\"dataframe\">\n",
       "  <thead>\n",
       "    <tr style=\"text-align: right;\">\n",
       "      <th></th>\n",
       "      <th>user_profile</th>\n",
       "      <th>Contributions</th>\n",
       "      <th>Followers</th>\n",
       "      <th>Following</th>\n",
       "    </tr>\n",
       "  </thead>\n",
       "  <tbody>\n",
       "    <tr>\n",
       "      <th>0</th>\n",
       "      <td>https://www.tripadvisor.ca/Profile/mmwilson83</td>\n",
       "      <td>31</td>\n",
       "      <td>0</td>\n",
       "      <td>0</td>\n",
       "    </tr>\n",
       "    <tr>\n",
       "      <th>1</th>\n",
       "      <td>https://www.tripadvisor.ca/Profile/lisambrandt1</td>\n",
       "      <td>53</td>\n",
       "      <td>0</td>\n",
       "      <td>0</td>\n",
       "    </tr>\n",
       "    <tr>\n",
       "      <th>2</th>\n",
       "      <td>https://www.tripadvisor.ca/Profile/Placestobee</td>\n",
       "      <td>57</td>\n",
       "      <td>0</td>\n",
       "      <td>0</td>\n",
       "    </tr>\n",
       "    <tr>\n",
       "      <th>3</th>\n",
       "      <td>https://www.tripadvisor.ca/Profile/loriy201</td>\n",
       "      <td>2</td>\n",
       "      <td>0</td>\n",
       "      <td>0</td>\n",
       "    </tr>\n",
       "    <tr>\n",
       "      <th>4</th>\n",
       "      <td>https://www.tripadvisor.ca/Profile/medsalesguy</td>\n",
       "      <td>199</td>\n",
       "      <td>0</td>\n",
       "      <td>0</td>\n",
       "    </tr>\n",
       "    <tr>\n",
       "      <th>5</th>\n",
       "      <td>https://www.tripadvisor.ca/Profile/kpatters</td>\n",
       "      <td>8,491</td>\n",
       "      <td>19</td>\n",
       "      <td>1</td>\n",
       "    </tr>\n",
       "    <tr>\n",
       "      <th>6</th>\n",
       "      <td>https://www.tripadvisor.ca/Profile/gurstond</td>\n",
       "      <td>6</td>\n",
       "      <td>0</td>\n",
       "      <td>0</td>\n",
       "    </tr>\n",
       "    <tr>\n",
       "      <th>7</th>\n",
       "      <td>https://www.tripadvisor.ca/Profile/kidglove11</td>\n",
       "      <td>2</td>\n",
       "      <td>0</td>\n",
       "      <td>0</td>\n",
       "    </tr>\n",
       "    <tr>\n",
       "      <th>8</th>\n",
       "      <td>https://www.tripadvisor.ca/Profile/86connieb86</td>\n",
       "      <td>30</td>\n",
       "      <td>0</td>\n",
       "      <td>0</td>\n",
       "    </tr>\n",
       "    <tr>\n",
       "      <th>9</th>\n",
       "      <td>https://www.tripadvisor.ca/Profile/odie05408</td>\n",
       "      <td>47</td>\n",
       "      <td>0</td>\n",
       "      <td>0</td>\n",
       "    </tr>\n",
       "  </tbody>\n",
       "</table>\n",
       "</div>"
      ],
      "text/plain": [
       "                                      user_profile Contributions  Followers   \\\n",
       "0    https://www.tripadvisor.ca/Profile/mmwilson83             31          0   \n",
       "1  https://www.tripadvisor.ca/Profile/lisambrandt1             53          0   \n",
       "2   https://www.tripadvisor.ca/Profile/Placestobee             57          0   \n",
       "3      https://www.tripadvisor.ca/Profile/loriy201              2          0   \n",
       "4   https://www.tripadvisor.ca/Profile/medsalesguy            199          0   \n",
       "5      https://www.tripadvisor.ca/Profile/kpatters          8,491         19   \n",
       "6      https://www.tripadvisor.ca/Profile/gurstond              6          0   \n",
       "7    https://www.tripadvisor.ca/Profile/kidglove11              2          0   \n",
       "8   https://www.tripadvisor.ca/Profile/86connieb86             30          0   \n",
       "9     https://www.tripadvisor.ca/Profile/odie05408             47          0   \n",
       "\n",
       "  Following   \n",
       "0          0  \n",
       "1          0  \n",
       "2          0  \n",
       "3          0  \n",
       "4          0  \n",
       "5          1  \n",
       "6          0  \n",
       "7          0  \n",
       "8          0  \n",
       "9          0  "
      ]
     },
     "execution_count": 63,
     "metadata": {},
     "output_type": "execute_result"
    }
   ],
   "source": [
    "pd.DataFrame(uniques_profiles_meta_lst)"
   ]
  },
  {
   "cell_type": "code",
   "execution_count": null,
   "metadata": {},
   "outputs": [],
   "source": []
  }
 ],
 "metadata": {
  "kernelspec": {
   "display_name": "Python 3 (ipykernel)",
   "language": "python",
   "name": "python3"
  },
  "language_info": {
   "codemirror_mode": {
    "name": "ipython",
    "version": 3
   },
   "file_extension": ".py",
   "mimetype": "text/x-python",
   "name": "python",
   "nbconvert_exporter": "python",
   "pygments_lexer": "ipython3",
   "version": "3.8.10"
  }
 },
 "nbformat": 4,
 "nbformat_minor": 2
}
